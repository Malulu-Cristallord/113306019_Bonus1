{
  "nbformat": 4,
  "nbformat_minor": 0,
  "metadata": {
    "colab": {
      "provenance": [],
      "include_colab_link": true
    },
    "kernelspec": {
      "name": "python3",
      "display_name": "Python 3"
    },
    "language_info": {
      "name": "python"
    }
  },
  "cells": [
    {
      "cell_type": "markdown",
      "metadata": {
        "id": "view-in-github",
        "colab_type": "text"
      },
      "source": [
        "<a href=\"https://colab.research.google.com/github/Malulu-Cristallord/113306019_Bonus1/blob/main/114_%E6%BC%94%E7%AE%97%E6%B3%95Python%E5%BE%A9%E7%BF%92.ipynb\" target=\"_parent\"><img src=\"https://colab.research.google.com/assets/colab-badge.svg\" alt=\"Open In Colab\"/></a>"
      ]
    },
    {
      "cell_type": "markdown",
      "source": [
        "TA： 資訊五 張發貴   \n",
        "\n",
        "Email: 110703033@g.nccu.edu.tw\n",
        "\n",
        "Feel free to contact me if you have any questions"
      ],
      "metadata": {
        "id": "47jGgbSnI-As"
      }
    },
    {
      "cell_type": "markdown",
      "source": [
        "## 復習 Python"
      ],
      "metadata": {
        "id": "FP25R9bWT0Cc"
      }
    },
    {
      "cell_type": "markdown",
      "source": [
        "# 四大基本型態"
      ],
      "metadata": {
        "id": "gs43vggQWCNk"
      }
    },
    {
      "cell_type": "markdown",
      "source": [
        "## 整數 → int，ex. 3 / 5 / 7"
      ],
      "metadata": {
        "id": "LQPYBaRDUBm5"
      }
    },
    {
      "cell_type": "code",
      "source": [
        "#可以使用print() 來把程式碼的結果呈現在畫面上\n",
        "#可以使用type() 來檢查資料的型態\n",
        "\n",
        "print(type(0))\n",
        "print(type(123456))"
      ],
      "metadata": {
        "colab": {
          "base_uri": "https://localhost:8080/"
        },
        "id": "I_blZRqdMvEr",
        "outputId": "2e725372-2604-4b78-f0bb-6fe81af8cdf5"
      },
      "execution_count": null,
      "outputs": [
        {
          "output_type": "stream",
          "name": "stdout",
          "text": [
            "<class 'int'>\n",
            "<class 'int'>\n"
          ]
        }
      ]
    },
    {
      "cell_type": "markdown",
      "source": [
        "## 小數（浮點數）→ float ，ex. 1.999 / 2.53"
      ],
      "metadata": {
        "id": "c-x887-3MFDc"
      }
    },
    {
      "cell_type": "code",
      "source": [
        "#可以使用print() 來把程式碼的結果呈現在畫面上\n",
        "#可以使用type() 來檢查資料的型態\n",
        "\n",
        "print(type(3.14))\n",
        "print(type(1.0))\n",
        "print(type(3.))"
      ],
      "metadata": {
        "colab": {
          "base_uri": "https://localhost:8080/"
        },
        "id": "8VpErIM-Mp18",
        "outputId": "1f7e291d-237d-4a3c-f44b-aa4c0325ab0a"
      },
      "execution_count": null,
      "outputs": [
        {
          "output_type": "stream",
          "name": "stdout",
          "text": [
            "<class 'float'>\n",
            "<class 'float'>\n",
            "<class 'float'>\n"
          ]
        }
      ]
    },
    {
      "cell_type": "markdown",
      "source": [
        "## 布林值 → bool ，ex. True / False"
      ],
      "metadata": {
        "id": "MVVWXlLnMEz7"
      }
    },
    {
      "cell_type": "code",
      "source": [
        "#可以使用print() 來把程式碼的結果呈現在畫面上\n",
        "#可以使用type() 來檢查資料的型態\n",
        "\n",
        "print(type(True)) #注意開頭大寫 True False 不可以是true false\n",
        "print(type(False))"
      ],
      "metadata": {
        "colab": {
          "base_uri": "https://localhost:8080/"
        },
        "id": "f6Zbvw5MMmIS",
        "outputId": "d0ba27bc-cc5d-4d5d-ea1a-99a7672d54bf"
      },
      "execution_count": null,
      "outputs": [
        {
          "output_type": "stream",
          "name": "stdout",
          "text": [
            "<class 'bool'>\n",
            "<class 'bool'>\n"
          ]
        }
      ]
    },
    {
      "cell_type": "code",
      "source": [
        "print(type(false))"
      ],
      "metadata": {
        "id": "mOPeQhOgNdpd",
        "colab": {
          "base_uri": "https://localhost:8080/",
          "height": 141
        },
        "outputId": "b5bed786-7f2c-4af3-cf07-0d2b2e460880"
      },
      "execution_count": null,
      "outputs": [
        {
          "output_type": "error",
          "ename": "NameError",
          "evalue": "name 'false' is not defined",
          "traceback": [
            "\u001b[0;31m---------------------------------------------------------------------------\u001b[0m",
            "\u001b[0;31mNameError\u001b[0m                                 Traceback (most recent call last)",
            "\u001b[0;32m/tmp/ipython-input-2845832864.py\u001b[0m in \u001b[0;36m<cell line: 0>\u001b[0;34m()\u001b[0m\n\u001b[0;32m----> 1\u001b[0;31m \u001b[0mprint\u001b[0m\u001b[0;34m(\u001b[0m\u001b[0mtype\u001b[0m\u001b[0;34m(\u001b[0m\u001b[0mfalse\u001b[0m\u001b[0;34m)\u001b[0m\u001b[0;34m)\u001b[0m\u001b[0;34m\u001b[0m\u001b[0;34m\u001b[0m\u001b[0m\n\u001b[0m",
            "\u001b[0;31mNameError\u001b[0m: name 'false' is not defined"
          ]
        }
      ]
    },
    {
      "cell_type": "markdown",
      "source": [
        "## 字串 → str ，ex. '你好'"
      ],
      "metadata": {
        "id": "fzIVF7AgMEVg"
      }
    },
    {
      "cell_type": "code",
      "execution_count": null,
      "metadata": {
        "id": "u4snthDpTzH7"
      },
      "outputs": [],
      "source": [
        "#可以使用print() 來把程式碼的結果呈現在畫面上\n",
        "#可以使用type() 來檢查資料的型態\n",
        "print(type('123456')) # 可以使用'' 或是\" \"把字串包起來\n",
        "print(type('false'))\n",
        "print(type(\"cocacola\"))"
      ]
    },
    {
      "cell_type": "markdown",
      "source": [
        "# 型態轉換"
      ],
      "metadata": {
        "id": "MUZrQHxBWE8l"
      }
    },
    {
      "cell_type": "markdown",
      "source": [
        "## int() 將資料轉換成整數型態"
      ],
      "metadata": {
        "id": "LMrqGWGTWq9Y"
      }
    },
    {
      "cell_type": "code",
      "source": [
        "# '3'\n",
        "print(type('3'))\n",
        "\n",
        "# int('3')\n",
        "print(type(int('3')))"
      ],
      "metadata": {
        "colab": {
          "base_uri": "https://localhost:8080/"
        },
        "id": "aLIcoMhIWK9M",
        "outputId": "7aed2d9a-9d1a-4658-c85b-e3d1018bf742"
      },
      "execution_count": null,
      "outputs": [
        {
          "output_type": "stream",
          "name": "stdout",
          "text": [
            "<class 'str'>\n",
            "<class 'int'>\n"
          ]
        }
      ]
    },
    {
      "cell_type": "code",
      "source": [
        "x = '3'\n",
        "print(type(x))  # '3'\n",
        "x = int(x)   # int('3') → 3\n",
        "print(type(x))"
      ],
      "metadata": {
        "colab": {
          "base_uri": "https://localhost:8080/"
        },
        "id": "grzALFYwPNyL",
        "outputId": "d9da5073-07c9-452f-b610-90f5fff54e15"
      },
      "execution_count": null,
      "outputs": [
        {
          "output_type": "stream",
          "name": "stdout",
          "text": [
            "<class 'str'>\n",
            "<class 'int'>\n"
          ]
        }
      ]
    },
    {
      "cell_type": "code",
      "source": [
        "# 並非所有字串都可以被轉成int ex. int('Hello World') 會導致程式錯誤\n",
        "\n",
        "print(int('H'))\n",
        "print(int('Hello World'))"
      ],
      "metadata": {
        "colab": {
          "base_uri": "https://localhost:8080/",
          "height": 193
        },
        "id": "Aixj-kJOOyoD",
        "outputId": "37acc3fa-3dd8-48d0-bd50-e09131eafd0c"
      },
      "execution_count": null,
      "outputs": [
        {
          "output_type": "error",
          "ename": "ValueError",
          "evalue": "invalid literal for int() with base 10: 'H'",
          "traceback": [
            "\u001b[0;31m---------------------------------------------------------------------------\u001b[0m",
            "\u001b[0;31mValueError\u001b[0m                                Traceback (most recent call last)",
            "\u001b[0;32m/tmp/ipython-input-388035942.py\u001b[0m in \u001b[0;36m<cell line: 0>\u001b[0;34m()\u001b[0m\n\u001b[1;32m      1\u001b[0m \u001b[0;31m# 並非所有字串都可以被轉成int ex. int('Hello World') 會導致程式錯誤\u001b[0m\u001b[0;34m\u001b[0m\u001b[0;34m\u001b[0m\u001b[0m\n\u001b[1;32m      2\u001b[0m \u001b[0;34m\u001b[0m\u001b[0m\n\u001b[0;32m----> 3\u001b[0;31m \u001b[0mprint\u001b[0m\u001b[0;34m(\u001b[0m\u001b[0mint\u001b[0m\u001b[0;34m(\u001b[0m\u001b[0;34m'H'\u001b[0m\u001b[0;34m)\u001b[0m\u001b[0;34m)\u001b[0m\u001b[0;34m\u001b[0m\u001b[0;34m\u001b[0m\u001b[0m\n\u001b[0m\u001b[1;32m      4\u001b[0m \u001b[0mprint\u001b[0m\u001b[0;34m(\u001b[0m\u001b[0mint\u001b[0m\u001b[0;34m(\u001b[0m\u001b[0;34m'Hello World'\u001b[0m\u001b[0;34m)\u001b[0m\u001b[0;34m)\u001b[0m\u001b[0;34m\u001b[0m\u001b[0;34m\u001b[0m\u001b[0m\n",
            "\u001b[0;31mValueError\u001b[0m: invalid literal for int() with base 10: 'H'"
          ]
        }
      ]
    },
    {
      "cell_type": "markdown",
      "source": [
        "## float() 將資料轉換成浮點數型態"
      ],
      "metadata": {
        "id": "_xnjnkSJN_aS"
      }
    },
    {
      "cell_type": "code",
      "source": [
        "print(3)\n",
        "print(type(3))\n",
        "\n",
        "print(float(3))"
      ],
      "metadata": {
        "id": "dL5aWdUGWSr_"
      },
      "execution_count": null,
      "outputs": []
    },
    {
      "cell_type": "markdown",
      "source": [
        "## str() 將資料轉換成字串型態"
      ],
      "metadata": {
        "id": "VJUvr6jpOGI_"
      }
    },
    {
      "cell_type": "code",
      "source": [
        "print('我的學號是' + str(12345678))"
      ],
      "metadata": {
        "colab": {
          "base_uri": "https://localhost:8080/"
        },
        "id": "uhhDxOI_KkSp",
        "outputId": "57273d90-24ad-4f74-d5f7-ac13411a5188"
      },
      "execution_count": null,
      "outputs": [
        {
          "output_type": "stream",
          "name": "stdout",
          "text": [
            "我的學號是12345678\n"
          ]
        }
      ]
    },
    {
      "cell_type": "code",
      "source": [
        "print('我的學號是' + 12345678)"
      ],
      "metadata": {
        "colab": {
          "base_uri": "https://localhost:8080/",
          "height": 141
        },
        "id": "WF06jEv_KttA",
        "outputId": "48255cd8-b7df-451e-8d18-cef330da6484"
      },
      "execution_count": null,
      "outputs": [
        {
          "output_type": "error",
          "ename": "TypeError",
          "evalue": "can only concatenate str (not \"int\") to str",
          "traceback": [
            "\u001b[0;31m---------------------------------------------------------------------------\u001b[0m",
            "\u001b[0;31mTypeError\u001b[0m                                 Traceback (most recent call last)",
            "\u001b[0;32m/tmp/ipython-input-4266634109.py\u001b[0m in \u001b[0;36m<cell line: 0>\u001b[0;34m()\u001b[0m\n\u001b[0;32m----> 1\u001b[0;31m \u001b[0mprint\u001b[0m\u001b[0;34m(\u001b[0m\u001b[0;34m'我的學號是'\u001b[0m \u001b[0;34m+\u001b[0m \u001b[0;36m12345678\u001b[0m\u001b[0;34m)\u001b[0m\u001b[0;34m\u001b[0m\u001b[0;34m\u001b[0m\u001b[0m\n\u001b[0m",
            "\u001b[0;31mTypeError\u001b[0m: can only concatenate str (not \"int\") to str"
          ]
        }
      ]
    },
    {
      "cell_type": "markdown",
      "source": [
        "## bool() 將資料轉換成布林值"
      ],
      "metadata": {
        "id": "2BpwlmZlOMg_"
      }
    },
    {
      "cell_type": "code",
      "source": [
        "print(bool(0))\n",
        "\n",
        "print(bool(1))   # int\n",
        "print(bool(100))  # 正整數\n",
        "print(bool(-1))  # 負整數\n",
        "print(bool(3.1))  # float\n",
        "print(bool('h')) # str"
      ],
      "metadata": {
        "colab": {
          "base_uri": "https://localhost:8080/"
        },
        "id": "NUOd12u3OW6l",
        "outputId": "b14d08d0-27da-4f0c-de24-aa47cf821749"
      },
      "execution_count": null,
      "outputs": [
        {
          "output_type": "stream",
          "name": "stdout",
          "text": [
            "False\n",
            "True\n",
            "True\n",
            "True\n",
            "True\n",
            "True\n"
          ]
        }
      ]
    },
    {
      "cell_type": "markdown",
      "source": [
        "# 四則運算"
      ],
      "metadata": {
        "id": "lJf1TLdEUtnw"
      }
    },
    {
      "cell_type": "code",
      "source": [
        "# (+) 加號 | (-) 減號\n",
        "print(3 + 10)\n",
        "print(3 - 10)\n",
        "\n",
        "print('3' + '10')\n",
        "print('3' - '30')"
      ],
      "metadata": {
        "colab": {
          "base_uri": "https://localhost:8080/",
          "height": 228
        },
        "id": "n92PngVET4QT",
        "outputId": "15ff3cf7-6682-4fc9-e964-3e46de933f6c"
      },
      "execution_count": null,
      "outputs": [
        {
          "output_type": "stream",
          "name": "stdout",
          "text": [
            "13\n",
            "-7\n",
            "310\n"
          ]
        },
        {
          "output_type": "error",
          "ename": "TypeError",
          "evalue": "unsupported operand type(s) for -: 'str' and 'str'",
          "traceback": [
            "\u001b[0;31m---------------------------------------------------------------------------\u001b[0m",
            "\u001b[0;31mTypeError\u001b[0m                                 Traceback (most recent call last)",
            "\u001b[0;32m/tmp/ipython-input-3802493245.py\u001b[0m in \u001b[0;36m<cell line: 0>\u001b[0;34m()\u001b[0m\n\u001b[1;32m      4\u001b[0m \u001b[0;34m\u001b[0m\u001b[0m\n\u001b[1;32m      5\u001b[0m \u001b[0mprint\u001b[0m\u001b[0;34m(\u001b[0m\u001b[0;34m'3'\u001b[0m \u001b[0;34m+\u001b[0m \u001b[0;34m'10'\u001b[0m\u001b[0;34m)\u001b[0m\u001b[0;34m\u001b[0m\u001b[0;34m\u001b[0m\u001b[0m\n\u001b[0;32m----> 6\u001b[0;31m \u001b[0mprint\u001b[0m\u001b[0;34m(\u001b[0m\u001b[0;34m'3'\u001b[0m \u001b[0;34m-\u001b[0m \u001b[0;34m'30'\u001b[0m\u001b[0;34m)\u001b[0m\u001b[0;34m\u001b[0m\u001b[0;34m\u001b[0m\u001b[0m\n\u001b[0m",
            "\u001b[0;31mTypeError\u001b[0m: unsupported operand type(s) for -: 'str' and 'str'"
          ]
        }
      ]
    },
    {
      "cell_type": "code",
      "source": [
        "# (*) 乘號\n",
        "print(3 * 10)\n",
        "print('3' * 10)"
      ],
      "metadata": {
        "colab": {
          "base_uri": "https://localhost:8080/"
        },
        "id": "sazyhO4gU9NZ",
        "outputId": "7ef753fd-5ded-4238-871e-7d04cf2a2dc6"
      },
      "execution_count": null,
      "outputs": [
        {
          "output_type": "stream",
          "name": "stdout",
          "text": [
            "30\n",
            "3333333333\n"
          ]
        }
      ]
    },
    {
      "cell_type": "code",
      "source": [
        "# (/) 除號 | (//) 除號但不保留小數點 | (%) 取餘數\n",
        "print(9 / 2)\n",
        "print(9 // 2)\n",
        "print(9 % 2)"
      ],
      "metadata": {
        "colab": {
          "base_uri": "https://localhost:8080/"
        },
        "id": "0K5Yz_T4mqJn",
        "outputId": "db49bff1-db2e-4e82-c0a3-464487672599"
      },
      "execution_count": null,
      "outputs": [
        {
          "output_type": "stream",
          "name": "stdout",
          "text": [
            "4.5\n",
            "4\n",
            "1\n"
          ]
        }
      ]
    },
    {
      "cell_type": "code",
      "source": [
        "# (**) 指數\n",
        "print(9 ** 0.5)\n",
        "print(9 ** 2)"
      ],
      "metadata": {
        "colab": {
          "base_uri": "https://localhost:8080/"
        },
        "id": "f4aJnA3bsMjs",
        "outputId": "f4514f2b-a058-45ce-adca-c1f473c93958"
      },
      "execution_count": null,
      "outputs": [
        {
          "output_type": "stream",
          "name": "stdout",
          "text": [
            "3.0\n",
            "81\n"
          ]
        }
      ]
    },
    {
      "cell_type": "markdown",
      "source": [
        "# 變數與判斷式 if else"
      ],
      "metadata": {
        "id": "Vhf46ZllU2JG"
      }
    },
    {
      "cell_type": "code",
      "source": [
        "# Python是一種「動態型別」（Dynamically Typed）語言，所以中不用事先宣告變數型態\n",
        "# 不需要像這樣寫 → | int x = 3 |\n",
        "# 但可以這樣寫 → | x : int = 3 | ，方便自己或其他人記得 x 是 int 型別\n",
        "# 重點是 = 後面的型別是什麽\n",
        "\n",
        "x = 3\n",
        "print(x)\n",
        "print(type(x))\n",
        "\n",
        "x = \"Hello World\"\n",
        "print(x)\n",
        "print(type(x))\n",
        "\n",
        "x: bool = 45\n",
        "print(x)\n",
        "print(type(x))"
      ],
      "metadata": {
        "colab": {
          "base_uri": "https://localhost:8080/"
        },
        "id": "WDLClLkEXnsa",
        "outputId": "50f2d300-b089-44db-c839-9441adb45071"
      },
      "execution_count": null,
      "outputs": [
        {
          "output_type": "stream",
          "name": "stdout",
          "text": [
            "3\n",
            "<class 'int'>\n",
            "Hello World\n",
            "<class 'str'>\n",
            "45\n",
            "<class 'int'>\n"
          ]
        }
      ]
    },
    {
      "cell_type": "markdown",
      "source": [
        "## print + 變數"
      ],
      "metadata": {
        "id": "oRibryy7Iw0Z"
      }
    },
    {
      "cell_type": "code",
      "source": [
        "# print 裡面的 f 是 Format (格式化)\n",
        "# 寫成 print(f'') 就等於告訴 Python：「這一串字串裏有特殊格式，請幫我把裡面用大括號 {} 包起來的部分，換成對應變數的值。」\n",
        "\n",
        "name = 'Joe'\n",
        "age = 25\n",
        "\n",
        "print('Hello, my name is Joe. I\\'m age years old. ')\n",
        "print('Hello, my name is ' + name + '. I\\'m ' + str(age) + ' years old. ')\n",
        "print(f'Hello, my name is {name}. I\\'m {age} years old. ')\n",
        "\n",
        "print('Hello, my name is ' + name.upper() + '. I\\'m ' + str(age + 5) + ' years old. ')\n",
        "print(f'Hello, my name is {name.upper()}. I\\'m {age + 5} years old. ')"
      ],
      "metadata": {
        "colab": {
          "base_uri": "https://localhost:8080/"
        },
        "id": "iZ7BqZ7JImvT",
        "outputId": "23a6b8b0-ceee-4d2d-dc10-7014e54a8de9"
      },
      "execution_count": null,
      "outputs": [
        {
          "output_type": "stream",
          "name": "stdout",
          "text": [
            "Hello, my name is Joe. I'm age years old. \n",
            "Hello, my name is Joe. I'm 25 years old. \n",
            "Hello, my name is Joe. I'm 25 years old. \n",
            "Hello, my name is JOE. I'm 30 years old. \n",
            "Hello, my name is JOE. I'm 30 years old. \n"
          ]
        }
      ]
    },
    {
      "cell_type": "markdown",
      "source": [
        "# input() + 變數"
      ],
      "metadata": {
        "id": "CgG7kcJHC7_D"
      }
    },
    {
      "cell_type": "code",
      "source": [
        "# input() 括號中可以放入提示訊息，告訴使用者該輸入什麼\n",
        "name = input(\"請輸入您的名字: \")\n",
        "print(f\"你好, {name}!\")\n",
        "\n",
        "# 執行時，畫面會先顯示 \"請輸入您的名字: \"\n",
        "# 假設我輸入 \"喬同\" 並按下 Enter\n",
        "# 程式會接著印出 \"你好, 喬同!\""
      ],
      "metadata": {
        "colab": {
          "base_uri": "https://localhost:8080/"
        },
        "id": "feCUsWx0DGH_",
        "outputId": "2a4470f2-1316-47d3-f1dc-aebc8363a00c"
      },
      "execution_count": null,
      "outputs": [
        {
          "output_type": "stream",
          "name": "stdout",
          "text": [
            "請輸入您的名字: 哭啊\n",
            "你好, 哭啊!\n"
          ]
        }
      ]
    },
    {
      "cell_type": "code",
      "source": [
        "num1_str = input(\"請輸入第一個數字: \") # 假設輸入 5\n",
        "num2_str = input(\"請輸入第二個數字: \") # 假設輸入 3\n",
        "\n",
        "# 因為回傳的是字串，所以 '+' 會變成字串的「串接」\n",
        "result = num1_str + num2_str\n",
        "print(f\"結果: {result}\")\n",
        "\n",
        "# 預期輸出: 8\n",
        "# 實際輸出: 結果: 53"
      ],
      "metadata": {
        "colab": {
          "base_uri": "https://localhost:8080/"
        },
        "id": "aagfZGqzDJVB",
        "outputId": "5842c482-b8eb-4efc-8386-9c12a329501d"
      },
      "execution_count": null,
      "outputs": [
        {
          "output_type": "stream",
          "name": "stdout",
          "text": [
            "請輸入第一個數字: 5\n",
            "請輸入第二個數字: 3\n",
            "結果: 53\n"
          ]
        }
      ]
    },
    {
      "cell_type": "code",
      "source": [
        "num1 = int(input(\"請輸入第一個數字: \")) # 假設輸入 5\n",
        "num2 = int(input(\"請輸入第二個數字: \")) # 假設輸入 3\n",
        "\n",
        "result = num1 + num2\n",
        "print(f\"結果: {result}\")\n",
        "\n",
        "# 輸出: 結果: 8"
      ],
      "metadata": {
        "colab": {
          "base_uri": "https://localhost:8080/"
        },
        "id": "0nKOoIK9DMe4",
        "outputId": "7675d899-4dac-45a9-914b-ef4750e7f0bf"
      },
      "execution_count": null,
      "outputs": [
        {
          "output_type": "stream",
          "name": "stdout",
          "text": [
            "請輸入第一個數字: 5\n",
            "請輸入第二個數字: 3\n",
            "結果: 8\n"
          ]
        }
      ]
    },
    {
      "cell_type": "code",
      "source": [
        "# 假設使用者輸入 \"10 20 30\"\n",
        "# input().split() 會得到 ['10', '20', '30']\n",
        "# map(int, ...) 會將 int 函數應用到每個元素上\n",
        "a, b, c = map(int, input().split())\n",
        "\n",
        "print(f\"a = {a}, b = {b}, c = {c}\")\n",
        "print(f\"a 的型態是 {type(a)}\")"
      ],
      "metadata": {
        "colab": {
          "base_uri": "https://localhost:8080/"
        },
        "id": "byfbKCsjDSPH",
        "outputId": "e63c321d-ae48-4655-86ce-64096d6dc63b"
      },
      "execution_count": null,
      "outputs": [
        {
          "output_type": "stream",
          "name": "stdout",
          "text": [
            "10 20 30\n",
            "a = 10, b = 20, c = 30\n",
            "a 的型態是 <class 'int'>\n"
          ]
        }
      ]
    },
    {
      "cell_type": "code",
      "source": [
        "# 假設使用者輸入 \"3 1 4 1 5 9\"\n",
        "# 做法與模式二幾乎一樣，最後再用 list() 包起來\n",
        "numbers = list(map(int, input().split()))\n",
        "\n",
        "print(f\"讀取到的列表是: {numbers}\")\n",
        "print(f\"列表的第一個元素是: {numbers[0]}\")"
      ],
      "metadata": {
        "colab": {
          "base_uri": "https://localhost:8080/"
        },
        "id": "GM96KZW4DU2L",
        "outputId": "00ca1e67-440e-4a7d-8c7b-78fcdfff3a13"
      },
      "execution_count": null,
      "outputs": [
        {
          "output_type": "stream",
          "name": "stdout",
          "text": [
            "3 1 4 1 5 9\n",
            "讀取到的列表是: [3, 1, 4, 1, 5, 9]\n",
            "列表的第一個元素是: 3\n"
          ]
        }
      ]
    },
    {
      "cell_type": "markdown",
      "source": [
        "## 判斷式（ if、elif、else ）"
      ],
      "metadata": {
        "id": "NAwbIBENqkQY"
      }
    },
    {
      "cell_type": "code",
      "source": [
        "# if 條件:\n",
        "#  statement\n",
        "# elif 條件2:\n",
        "#  statement\n",
        "# else:\n",
        "#  statement"
      ],
      "metadata": {
        "id": "n0sDo07QI2-s"
      },
      "execution_count": null,
      "outputs": []
    },
    {
      "cell_type": "code",
      "source": [
        "x = 2\n",
        "y = 27\n",
        "\n",
        "if x == y:\n",
        "  print(f'x = y = {x}, equal')\n",
        "else:\n",
        "  print(f'x = {x}, y = {y}, not equal')"
      ],
      "metadata": {
        "colab": {
          "base_uri": "https://localhost:8080/"
        },
        "id": "I0Ru23OctLfE",
        "outputId": "ac9dad3b-947b-4a91-c7b8-714cec974e34"
      },
      "execution_count": null,
      "outputs": [
        {
          "output_type": "stream",
          "name": "stdout",
          "text": [
            "x = 2, y = 27, not equal\n"
          ]
        }
      ]
    },
    {
      "cell_type": "code",
      "source": [
        "a = [3, 5, 7]\n",
        "b = 5\n",
        "if b in a:\n",
        "  print(f'{b} is in {a}')\n",
        "else:\n",
        "  print(f'{b} is not in {a}')"
      ],
      "metadata": {
        "colab": {
          "base_uri": "https://localhost:8080/"
        },
        "id": "LXkV_EigJHxL",
        "outputId": "f3de87d8-263e-44ce-bfcf-6df3da389353"
      },
      "execution_count": null,
      "outputs": [
        {
          "output_type": "stream",
          "name": "stdout",
          "text": [
            "5 is in [3, 5, 7]\n"
          ]
        }
      ]
    },
    {
      "cell_type": "code",
      "source": [
        "# 在某種情況同時有多個條件:\n",
        "\"\"\"\n",
        "if 條件一 and 條件二:\n",
        "  statement\n",
        "\n",
        "\n",
        "if 條件一 or 條件二:\n",
        "  statement\n",
        "\"\"\""
      ],
      "metadata": {
        "colab": {
          "base_uri": "https://localhost:8080/",
          "height": 36
        },
        "id": "3V67mDv4JaIZ",
        "outputId": "7116361c-7898-4f2b-d5e4-bcb29e793c62"
      },
      "execution_count": null,
      "outputs": [
        {
          "output_type": "execute_result",
          "data": {
            "text/plain": [
              "'\\nif 條件一 and 條件二:\\n  statement\\n\\n\\nif 條件一 or 條件二:\\n  statement\\n'"
            ],
            "application/vnd.google.colaboratory.intrinsic+json": {
              "type": "string"
            }
          },
          "metadata": {},
          "execution_count": 88
        }
      ]
    },
    {
      "cell_type": "code",
      "source": [
        "a = 30\n",
        "if a < 50 or a > 57:\n",
        "  print(True)\n",
        "\n",
        "a = 52\n",
        "if a < 50 or a > 57:\n",
        "  print(True)\n",
        "else:\n",
        "  print(False)\n",
        "\n",
        "a = 3\n",
        "b = 5\n",
        "if(a % 2 == 1 and b % 2 == 1):\n",
        "  print('both of a and b are odd numbers')\n",
        "else:\n",
        "  print('at least one of them is even number')"
      ],
      "metadata": {
        "colab": {
          "base_uri": "https://localhost:8080/"
        },
        "id": "wvs8iET-Jt18",
        "outputId": "a310924a-f0b5-46f2-e1bc-ad91d6fd1d83"
      },
      "execution_count": null,
      "outputs": [
        {
          "output_type": "stream",
          "name": "stdout",
          "text": [
            "True\n",
            "False\n",
            "both of a and b are odd numbers\n"
          ]
        }
      ]
    },
    {
      "cell_type": "code",
      "source": [
        "height = 176\n",
        "weight = 64\n",
        "bmi = weight / ((height / 100) ** 2)\n",
        "print(bmi)\n",
        "if bmi < 18.5:\n",
        "  print('體重過輕')\n",
        "elif bmi >= 18.5 and bmi < 24:\n",
        "  print('體重正常')\n",
        "else:\n",
        "  print('體重過重')\n"
      ],
      "metadata": {
        "colab": {
          "base_uri": "https://localhost:8080/"
        },
        "id": "CXOp1bcFtdCQ",
        "outputId": "89bc39eb-77a5-4cce-9b65-b7bf2b3bdbc4"
      },
      "execution_count": null,
      "outputs": [
        {
          "output_type": "stream",
          "name": "stdout",
          "text": [
            "20.66115702479339\n",
            "體重正常\n"
          ]
        }
      ]
    },
    {
      "cell_type": "markdown",
      "source": [
        "# 函式 function"
      ],
      "metadata": {
        "id": "xOO25vYvXteI"
      }
    },
    {
      "cell_type": "code",
      "source": [
        "'''\n",
        "def 函數名(參數1, 參數2 ...):\n",
        "  statement\n",
        "\n",
        "  return 變數名\n",
        "'''"
      ],
      "metadata": {
        "id": "EHLWNkL_CF-r",
        "colab": {
          "base_uri": "https://localhost:8080/",
          "height": 36
        },
        "outputId": "27e4ac8d-7aca-4c23-9e95-73086708f8c3"
      },
      "execution_count": null,
      "outputs": [
        {
          "output_type": "execute_result",
          "data": {
            "text/plain": [
              "'\\ndef 函數名(參數1, 參數2 ...):\\n  statement\\n\\n  return 變數名\\n'"
            ],
            "application/vnd.google.colaboratory.intrinsic+json": {
              "type": "string"
            }
          },
          "metadata": {},
          "execution_count": 91
        }
      ]
    },
    {
      "cell_type": "markdown",
      "source": [
        "請注意冒號：和縮排   \n",
        "return 可加可不加（可以作為函式完成後的回傳值，或是終止函式運行）"
      ],
      "metadata": {
        "id": "DkIIJl6WCYDz"
      }
    },
    {
      "cell_type": "markdown",
      "source": [
        "函式定義"
      ],
      "metadata": {
        "id": "1K10bxb1Cz-T"
      }
    },
    {
      "cell_type": "code",
      "source": [
        "def bmi_calc(height, weight):\n",
        "  bmi = weight / ((height / 100) ** 2)\n",
        "  if bmi < 18.5:\n",
        "    tip = '體重過輕'\n",
        "  elif bmi >= 18.5 and bmi < 24:\n",
        "    tip = '體重正常'\n",
        "  else:\n",
        "    tip = '體重過重'\n",
        "  return tip"
      ],
      "metadata": {
        "id": "u_IyzYetYGhm"
      },
      "execution_count": null,
      "outputs": []
    },
    {
      "cell_type": "markdown",
      "source": [
        "呼叫函式"
      ],
      "metadata": {
        "id": "JnTzhaflCyCH"
      }
    },
    {
      "cell_type": "code",
      "source": [
        "bmi_calc(176, 64)"
      ],
      "metadata": {
        "colab": {
          "base_uri": "https://localhost:8080/",
          "height": 36
        },
        "id": "kQ-i4N3Eu9ob",
        "outputId": "e8baa07c-5913-4bd9-87d8-0eef6b8deabd"
      },
      "execution_count": null,
      "outputs": [
        {
          "output_type": "execute_result",
          "data": {
            "text/plain": [
              "'體重正常'"
            ],
            "application/vnd.google.colaboratory.intrinsic+json": {
              "type": "string"
            }
          },
          "metadata": {},
          "execution_count": 93
        }
      ]
    },
    {
      "cell_type": "code",
      "source": [
        "bmi_calc(180, 50)"
      ],
      "metadata": {
        "colab": {
          "base_uri": "https://localhost:8080/",
          "height": 36
        },
        "id": "t5ENNPuUvJii",
        "outputId": "b7b8781b-b061-472a-9e9d-ccef0db248e3"
      },
      "execution_count": null,
      "outputs": [
        {
          "output_type": "execute_result",
          "data": {
            "text/plain": [
              "'體重過輕'"
            ],
            "application/vnd.google.colaboratory.intrinsic+json": {
              "type": "string"
            }
          },
          "metadata": {},
          "execution_count": 94
        }
      ]
    },
    {
      "cell_type": "markdown",
      "source": [
        "# List"
      ],
      "metadata": {
        "id": "f1WlA0rdvaB_"
      }
    },
    {
      "cell_type": "code",
      "source": [
        "# List 是一種有序且可變的資料集合。\n",
        "# 有序 (Ordered)：您放入 List 中的元素會維持固定的順序，除非您手動去改變它。每個元素都有一個對應的索引（編號），第一個元素的索引是 0。\n",
        "# 可變 (Mutable)：您可以在建立 List 之後，隨時新增、刪除或修改其中的元素。\n",
        "# 可容納任何型態：List 可以存放任何資料型態的元素，例如整數、字串，甚至是另一個 List。\n",
        "# 允許重複元素：同一個元素可以在 List 中出現多次。\n",
        "\n",
        "a = [3, 5, 7, 9]\n",
        "print(a)\n",
        "print(type(a))"
      ],
      "metadata": {
        "colab": {
          "base_uri": "https://localhost:8080/"
        },
        "id": "zHzfcH6pvMrO",
        "outputId": "5553ba9b-e979-4f45-a1a8-0c9f4ed67d14"
      },
      "execution_count": null,
      "outputs": [
        {
          "output_type": "stream",
          "name": "stdout",
          "text": [
            "[3, 5, 7, 9]\n",
            "<class 'list'>\n"
          ]
        }
      ]
    },
    {
      "cell_type": "code",
      "source": [
        "# List裡面可放不同型態的資料\n",
        "b = ['3', 5, True, 3.14]\n",
        "print(b)\n",
        "print(type(b))"
      ],
      "metadata": {
        "colab": {
          "base_uri": "https://localhost:8080/"
        },
        "id": "gfR3XilDvr3I",
        "outputId": "6ff237cf-3911-42e2-f8b7-bbe1adfff48e"
      },
      "execution_count": null,
      "outputs": [
        {
          "output_type": "stream",
          "name": "stdout",
          "text": [
            "['3', 5, True, 3.14]\n",
            "<class 'list'>\n"
          ]
        }
      ]
    },
    {
      "cell_type": "code",
      "source": [
        "# 如何取得List裡面的特定值\n",
        "print(a[0])\n",
        "print(a[1])\n",
        "print(a[2])\n",
        "\n",
        "print(a[3])"
      ],
      "metadata": {
        "colab": {
          "base_uri": "https://localhost:8080/"
        },
        "id": "U_byu7g0vwAx",
        "outputId": "19954d18-3bff-4aef-d6f2-1f0744d83dfa"
      },
      "execution_count": null,
      "outputs": [
        {
          "output_type": "stream",
          "name": "stdout",
          "text": [
            "3\n",
            "5\n",
            "7\n",
            "9\n"
          ]
        }
      ]
    },
    {
      "cell_type": "code",
      "source": [
        "# 尋找特定範圍 / 切片\n",
        "print(a[1:4])\n",
        "\n",
        "# 看看list裡頭有多少值（有多長）\n",
        "print(len(a))"
      ],
      "metadata": {
        "colab": {
          "base_uri": "https://localhost:8080/"
        },
        "id": "ERlY2gAYw1Lm",
        "outputId": "15cae9ab-1358-4af8-a6bb-cc3ef47db3ac"
      },
      "execution_count": null,
      "outputs": [
        {
          "output_type": "stream",
          "name": "stdout",
          "text": [
            "[5, 7, 9]\n",
            "4\n"
          ]
        }
      ]
    },
    {
      "cell_type": "code",
      "source": [
        "# 修改 List 中的值\n",
        "a[0] = 1\n",
        "print(a)"
      ],
      "metadata": {
        "colab": {
          "base_uri": "https://localhost:8080/"
        },
        "id": "n90gaZPowGll",
        "outputId": "bd8ea816-4dba-49d3-9f37-576f4df0e9bd"
      },
      "execution_count": null,
      "outputs": [
        {
          "output_type": "stream",
          "name": "stdout",
          "text": [
            "[1, 5, 7, 9]\n"
          ]
        }
      ]
    },
    {
      "cell_type": "markdown",
      "source": [
        "## 替 List 新增資料"
      ],
      "metadata": {
        "id": "ss6O6p6awYWy"
      }
    },
    {
      "cell_type": "code",
      "source": [
        "numbers = [1, 2, 3]\n",
        "\n",
        "# append(x)：將一個元素 x 加到 List 的結尾 （可以加另一個List）\n",
        "numbers.append(4)\n",
        "print(numbers)\n",
        "\n",
        "numbers.append(b)\n",
        "print(numbers)\n",
        "\n",
        "\n",
        "# insert(i, x)：在索引 i 的位置插入元素 x。\n",
        "numbers.insert(1, 99) # 在索引 1 的位置插入 99\n",
        "print(numbers)\n",
        "\n",
        "# 使用 extend(iterable)：將另一個 List 中的所有元素逐一加入到原 List 的結尾。\n",
        "numbers_2 = [5, 6, 7]\n",
        "numbers.extend(numbers_2)\n",
        "print(numbers)"
      ],
      "metadata": {
        "colab": {
          "base_uri": "https://localhost:8080/"
        },
        "id": "d0Y2u6_cwQE8",
        "outputId": "bd0f18bb-a5b8-477f-a321-664e2e0299b6"
      },
      "execution_count": null,
      "outputs": [
        {
          "output_type": "stream",
          "name": "stdout",
          "text": [
            "[1, 2, 3, 4]\n",
            "[1, 2, 3, 4, ['3', 5, True, 3.14]]\n",
            "[1, 99, 2, 3, 4, ['3', 5, True, 3.14]]\n",
            "[1, 99, 2, 3, 4, ['3', 5, True, 3.14], 5, 6, 7]\n"
          ]
        }
      ]
    },
    {
      "cell_type": "code",
      "source": [
        "# 高維度的List 或者説 存儲List的List\n",
        "\n",
        "c = [[2, 3], [3, 6], [5, 7]]\n",
        "print(c)\n",
        "print(c[0])\n",
        "print(c[0][1])"
      ],
      "metadata": {
        "colab": {
          "base_uri": "https://localhost:8080/"
        },
        "id": "7rPcLUyGyFzH",
        "outputId": "81c3bde4-5c46-4b11-a6ac-8a74b76cb51b"
      },
      "execution_count": null,
      "outputs": [
        {
          "output_type": "stream",
          "name": "stdout",
          "text": [
            "[[2, 3], [3, 6], [5, 7]]\n",
            "[2, 3]\n",
            "3\n"
          ]
        }
      ]
    },
    {
      "cell_type": "code",
      "source": [
        "print(len(c))\n",
        "print(len(c[0]))"
      ],
      "metadata": {
        "colab": {
          "base_uri": "https://localhost:8080/"
        },
        "id": "7-8_G8QnybiB",
        "outputId": "26cb8dbc-7b9c-4984-d3cf-817a4cf4975f"
      },
      "execution_count": null,
      "outputs": [
        {
          "output_type": "stream",
          "name": "stdout",
          "text": [
            "3\n",
            "2\n"
          ]
        }
      ]
    },
    {
      "cell_type": "markdown",
      "source": [
        "## 替 List 刪除元素"
      ],
      "metadata": {
        "id": "SLzcF-TBzD2x"
      }
    },
    {
      "cell_type": "code",
      "source": [
        "# remove(x)：從 List 中刪除第一個值為 x 的元素。\n",
        "# pop(i)：移除並回傳在索引 i 上的元素。如果省略 i，則預設移除並回傳最後一個元素。\n",
        "# clear()：清空 List 中的所有元素。\n",
        "\n",
        "numbers = [1, 99, 2, 3, 4, 5, 6, 99]\n",
        "\n",
        "# 使用 remove\n",
        "numbers.remove(99)\n",
        "print(numbers) # 輸出: [1, 2, 3, 4, 5, 6, 99]\n",
        "\n",
        "# 使用 pop\n",
        "popped_value = numbers.pop(2) # 移除索引 2 的元素 (值為 3)\n",
        "print(f\"被移除的元素是: {popped_value}\") # 輸出: 被移除的元素是: 3\n",
        "print(numbers) # 輸出: [1, 2, 4, 5, 6, 99]"
      ],
      "metadata": {
        "colab": {
          "base_uri": "https://localhost:8080/"
        },
        "id": "T4YrGo5ky8i1",
        "outputId": "1e001362-6375-4b00-bf27-5ee36a436883"
      },
      "execution_count": null,
      "outputs": [
        {
          "output_type": "stream",
          "name": "stdout",
          "text": [
            "[1, 2, 3, 4, 5, 6, 99]\n",
            "被移除的元素是: 3\n",
            "[1, 2, 4, 5, 6, 99]\n"
          ]
        }
      ]
    },
    {
      "cell_type": "markdown",
      "source": [
        "##"
      ],
      "metadata": {
        "id": "o-VntoQaaPBz"
      }
    },
    {
      "cell_type": "code",
      "source": [
        "# 兩個變數Reference到相同的List\n",
        "a = [3, 5, 7, 9]\n",
        "b = a\n",
        "print(b)\n",
        "b[0] = 1\n",
        "print(a)\n",
        "print(b)\n",
        "\n",
        "# 複製 List 用 .copy()\n",
        "a = [3, 5, 7, 9]\n",
        "b = a.copy()\n",
        "print(b)\n",
        "b[0] = 1\n",
        "print(a)\n",
        "print(b)"
      ],
      "metadata": {
        "colab": {
          "base_uri": "https://localhost:8080/"
        },
        "id": "F6jbDkvbaBBr",
        "outputId": "48a6813d-a5fe-4066-a162-3201f0a9b731"
      },
      "execution_count": null,
      "outputs": [
        {
          "output_type": "stream",
          "name": "stdout",
          "text": [
            "[3, 5, 7, 9]\n",
            "[1, 5, 7, 9]\n",
            "[1, 5, 7, 9]\n",
            "[3, 5, 7, 9]\n",
            "[3, 5, 7, 9]\n",
            "[1, 5, 7, 9]\n"
          ]
        }
      ]
    },
    {
      "cell_type": "markdown",
      "source": [
        "## 其他小功能"
      ],
      "metadata": {
        "id": "piTLm5spa3Ad"
      }
    },
    {
      "cell_type": "code",
      "source": [
        "# len(list)：回傳 List 的長度（元素個數）。\n",
        "# sort()：原地對 List 進行排序（會改變原始 List）。\n",
        "# reverse()：原地將 List 的元素反轉。\n",
        "# count(x)：回傳元素 x 在 List 中出現的次數。\n",
        "# index(x)：回傳元素 x 第一次出現的索引。\n",
        "\n",
        "\n",
        "numbers = [3, 1, 4, 1, 5, 9, 2, 6]\n",
        "print(f\"長度: {len(numbers)}\") # 輸出: 長度: 8\n",
        "print(f\"數字 1 出現的次數: {numbers.count(1)}\") # 輸出: 數字 1 出現的次數: 2\n",
        "print(f\"數字 5 第一次出現的索引: {numbers.index(5)}\")\n",
        "\n",
        "numbers.sort()\n",
        "print(f\"排序後: {numbers}\") # 輸出: 排序後: [1, 1, 3, 4, 5, 9]\n",
        "\n",
        "numbers.reverse()\n",
        "print(f\"反轉後: {numbers}\") # 輸出: 反轉後: [9, 5, 4, 3, 1, 1]"
      ],
      "metadata": {
        "colab": {
          "base_uri": "https://localhost:8080/"
        },
        "id": "p0wdr5N_arDm",
        "outputId": "26e50da0-0bb9-4114-f0d4-ff7bf3ca53b8"
      },
      "execution_count": null,
      "outputs": [
        {
          "output_type": "stream",
          "name": "stdout",
          "text": [
            "長度: 8\n",
            "數字 1 出現的次數: 2\n",
            "數字 5 第一次出現的索引: 4\n",
            "排序後: [1, 1, 2, 3, 4, 5, 6, 9]\n",
            "反轉後: [9, 6, 5, 4, 3, 2, 1, 1]\n"
          ]
        }
      ]
    },
    {
      "cell_type": "markdown",
      "source": [],
      "metadata": {
        "id": "OOO3YHdgVGiJ"
      }
    },
    {
      "cell_type": "code",
      "source": [
        "#######################################################################################################\n",
        "# 操作      #  程式碼      # 平均時間複雜度 # 説明\n",
        "#######################################################################################################\n",
        "# 存取元素    #  list[i]     -# O(1)\t    # 非常快，無論 List 多大，時間都一樣。\n",
        "# 在尾部新增   #  append()     # O(1)\t     # 平均來說非常快。\n",
        "# 在頭部新增   #  insert(0, ...) -# O(n)\t    # 很慢，因為所有後面的元素都要往後移動。\n",
        "# 刪除尾部元素  #  pop()\t    -# O(1)\t     # 非常快。\n",
        "# 刪除頭部元素  #  pop(0) \t   # O(n)\t     # 很慢，因為所有後面的元素都要往前移動。\n",
        "# 搜尋      #  x in list   -# O(n)\t    # 慢，最糟的情況下需要檢查每一個元素。\n",
        "# 排序      #  sort()\t     # O(n log n)\t # 效率很高，使用 Timsort 演算法。\n",
        "#######################################################################################################"
      ],
      "metadata": {
        "id": "8DEB-2wsVrDY"
      },
      "execution_count": null,
      "outputs": []
    },
    {
      "cell_type": "markdown",
      "source": [
        "# Tuple"
      ],
      "metadata": {
        "id": "Q60ppsKNy5Vn"
      }
    },
    {
      "cell_type": "markdown",
      "source": [],
      "metadata": {
        "id": "SZ4rCSpla9JS"
      }
    },
    {
      "cell_type": "code",
      "source": [
        "# 可以將 Tuple 想像成是「不可變的 List」。它擁有 List 的大部分特性，但有一個最關鍵的區別。\n",
        "# 就是不可變 (Immutable)。一旦 Tuple 被建立，就不能新增、刪除或修改其中的任何元素。\n",
        "\n",
        "# Tuple主要應用的情境在於防止資料被意外的修改。舉例來說，在一個應用程式中，可能有一些資料在運算的過程中，想防止不小心的被修改到，這時候就可以使用Tuple來存放那些資料。\n",
        "# 使用小括號 () 將元素包起來，就是在建立 Tuple 啦。\n",
        "\n",
        "my_tuple = (1, 2, 3, \"apple\")\n",
        "print(my_tuple)\n",
        "print(type(my_tuple))\n",
        "\n",
        "# 建立只有一個元素的 Tuple，請注意後面要加上逗號！\n",
        "single_element_tuple = (1,)\n",
        "print(single_element_tuple)\n",
        "print(type(single_element_tuple))\n",
        "\n",
        "# 如果寫成 (1)，Python 會認為它只是數字 1，而不是 Tuple\n",
        "not_tuple = (1)\n",
        "print(not_tuple)\n",
        "print(type(not_tuple))"
      ],
      "metadata": {
        "id": "CihybgOYxQV-",
        "colab": {
          "base_uri": "https://localhost:8080/"
        },
        "outputId": "3f600cb1-f0be-46b8-b7da-c4ab59c53455"
      },
      "execution_count": null,
      "outputs": [
        {
          "output_type": "stream",
          "name": "stdout",
          "text": [
            "(1, 2, 3, 'apple')\n",
            "<class 'tuple'>\n",
            "(1,)\n",
            "<class 'tuple'>\n",
            "1\n",
            "<class 'int'>\n"
          ]
        }
      ]
    },
    {
      "cell_type": "code",
      "source": [
        "# 一樣可以放不同的型別\n",
        "a = (10, 'type', True)\n",
        "print(a)"
      ],
      "metadata": {
        "colab": {
          "base_uri": "https://localhost:8080/"
        },
        "id": "EI0Y8le2cYFf",
        "outputId": "4d4deee7-a0a9-461d-9268-65f978639fda"
      },
      "execution_count": null,
      "outputs": [
        {
          "output_type": "stream",
          "name": "stdout",
          "text": [
            "(10, 'type', True)\n"
          ]
        }
      ]
    },
    {
      "cell_type": "code",
      "source": [
        "# 不可變的展示\n",
        "\n",
        "my_tuple = (10, 20, 30)\n",
        "\n",
        "try:\n",
        "    my_tuple[0] = 99 # 這行會引發 TypeError\n",
        "except TypeError as e:\n",
        "    print(f\"發生錯誤: {e}\")"
      ],
      "metadata": {
        "colab": {
          "base_uri": "https://localhost:8080/"
        },
        "id": "XhzbCBrBcq3U",
        "outputId": "5601c92f-be22-4398-f7bf-d4c0b1feba4d"
      },
      "execution_count": null,
      "outputs": [
        {
          "output_type": "stream",
          "name": "stdout",
          "text": [
            "發生錯誤: 'tuple' object does not support item assignment\n"
          ]
        }
      ]
    },
    {
      "cell_type": "code",
      "source": [
        "my_tuple[0] = 99"
      ],
      "metadata": {
        "colab": {
          "base_uri": "https://localhost:8080/",
          "height": 141
        },
        "id": "aJV2F0eubfcn",
        "outputId": "6ee95b50-2c77-49ba-fb1b-b827a11e7f3c"
      },
      "execution_count": null,
      "outputs": [
        {
          "output_type": "error",
          "ename": "TypeError",
          "evalue": "'tuple' object does not support item assignment",
          "traceback": [
            "\u001b[0;31m---------------------------------------------------------------------------\u001b[0m",
            "\u001b[0;31mTypeError\u001b[0m                                 Traceback (most recent call last)",
            "\u001b[0;32m/tmp/ipython-input-3252537444.py\u001b[0m in \u001b[0;36m<cell line: 0>\u001b[0;34m()\u001b[0m\n\u001b[0;32m----> 1\u001b[0;31m \u001b[0mmy_tuple\u001b[0m\u001b[0;34m[\u001b[0m\u001b[0;36m0\u001b[0m\u001b[0;34m]\u001b[0m \u001b[0;34m=\u001b[0m \u001b[0;36m99\u001b[0m\u001b[0;34m\u001b[0m\u001b[0;34m\u001b[0m\u001b[0m\n\u001b[0m",
            "\u001b[0;31mTypeError\u001b[0m: 'tuple' object does not support item assignment"
          ]
        }
      ]
    },
    {
      "cell_type": "markdown",
      "source": [
        "# Dict 字典"
      ],
      "metadata": {
        "id": "MlKcHaLEc19p"
      }
    },
    {
      "cell_type": "code",
      "source": [
        "# Dict 是 Python 中另一個資料結構，它儲存的是無序（在 Python 3.7+ 版本後為插入順序）的 鍵值對 (key-value pairs) 集合。\n",
        "# 核心特性：透過鍵 (key) 來存取對應的值 (value)，而不是像 List 那樣透過數字索引。這使得查找速度非常快。\n",
        "# 鍵的唯一性：在一個 Dict 中，每一個鍵都是獨一無二的。如果你用相同的鍵存入新的值，舊的值會被覆蓋。\n",
        "# 鍵的不可變性：Dict 的鍵必須是不可變的型態，例如 int, float, str, bool 或 tuple。list 不能作為鍵。\n",
        "# 可變性：Dict 本身是可變的，你可以隨時新增、刪除或修改其中的鍵值對。\n",
        "\n",
        "\n",
        "# 使用大括號 {}，並用 key: value 的形式來建立。\n",
        "\n",
        "# 建立一個儲存學生分數的字典\n",
        "# student_scores = {\"John\": 95, \"Jane\": 88, \"Dave\": 76}\n",
        "student_scores = {\n",
        "    \"John\": 95,\n",
        "    \"Jane\": 88,\n",
        "    \"Dave\": 76\n",
        "}\n",
        "print(student_scores)\n",
        "print(type(student_scores))\n",
        "\n",
        "# 建立一個空的字典\n",
        "empty_dict = {}\n",
        "print(empty_dict)"
      ],
      "metadata": {
        "colab": {
          "base_uri": "https://localhost:8080/"
        },
        "id": "ak1dvs3xc1cS",
        "outputId": "e64a01fd-98e3-46aa-dba4-e09361801366"
      },
      "execution_count": null,
      "outputs": [
        {
          "output_type": "stream",
          "name": "stdout",
          "text": [
            "{'John': 95, 'Jane': 88, 'Dave': 76}\n",
            "<class 'dict'>\n",
            "{}\n"
          ]
        }
      ]
    },
    {
      "cell_type": "markdown",
      "source": [
        "## Dist的存取、新增與修改"
      ],
      "metadata": {
        "id": "9-aonWYQo90Z"
      }
    },
    {
      "cell_type": "code",
      "source": [
        "student_scores = {\"John\": 95, \"Jane\": 88}\n",
        "\n",
        "# 存取值\n",
        "print(student_scores[\"John\"]) # 輸出: 95\n",
        "\n",
        "# 修改值\n",
        "student_scores[\"Jane\"] = 92\n",
        "print(student_scores) # 輸出: {'John': 95, 'Jane': 92}\n",
        "\n",
        "# 新增鍵值對\n",
        "student_scores[\"Kevin\"] = 85\n",
        "print(student_scores) # 輸出: {'John': 95, 'Jane': 92, 'Kevin': 85}"
      ],
      "metadata": {
        "colab": {
          "base_uri": "https://localhost:8080/"
        },
        "id": "YOc6GllLfOHg",
        "outputId": "7a232f71-eb20-43cf-9363-73dccae08747"
      },
      "execution_count": null,
      "outputs": [
        {
          "output_type": "stream",
          "name": "stdout",
          "text": [
            "95\n",
            "{'John': 95, 'Jane': 92}\n",
            "{'John': 95, 'Jane': 92, 'Kevin': 85}\n"
          ]
        }
      ]
    },
    {
      "cell_type": "markdown",
      "source": [
        "## 安全地存取值：.get() 方法"
      ],
      "metadata": {
        "id": "Kb8rkIIQpKE5"
      }
    },
    {
      "cell_type": "code",
      "source": [
        "# 如果用 [] 存取一個不存在的鍵，程式會報錯 (KeyError)。使用 .get() 方法則更安全，如果鍵不存在，它會回傳 None 或你指定的預設值。\n",
        "\n",
        "scores = {\"John\": 95}\n",
        "\n",
        "print(scores.get(\"John\"))      # 輸出: 95\n",
        "print(scores.get(\"Mary\"))      # 輸出: None (因為 Mary 不存在，不會報錯)\n",
        "print(scores.get(\"Mary\", 60))  # 輸出: 60 (提供預設值 60)\n",
        "print(scores.get(\"Mary\"))\n",
        "print(scores[\"Mary\"])"
      ],
      "metadata": {
        "colab": {
          "base_uri": "https://localhost:8080/",
          "height": 245
        },
        "id": "RSx04OBRevm8",
        "outputId": "71eb505f-5af8-4103-d7bc-96d9db239f82"
      },
      "execution_count": null,
      "outputs": [
        {
          "output_type": "stream",
          "name": "stdout",
          "text": [
            "95\n",
            "None\n",
            "60\n",
            "None\n"
          ]
        },
        {
          "output_type": "error",
          "ename": "KeyError",
          "evalue": "'Mary'",
          "traceback": [
            "\u001b[0;31m---------------------------------------------------------------------------\u001b[0m",
            "\u001b[0;31mKeyError\u001b[0m                                  Traceback (most recent call last)",
            "\u001b[0;32m/tmp/ipython-input-2774432276.py\u001b[0m in \u001b[0;36m<cell line: 0>\u001b[0;34m()\u001b[0m\n\u001b[1;32m      7\u001b[0m \u001b[0mprint\u001b[0m\u001b[0;34m(\u001b[0m\u001b[0mscores\u001b[0m\u001b[0;34m.\u001b[0m\u001b[0mget\u001b[0m\u001b[0;34m(\u001b[0m\u001b[0;34m\"Mary\"\u001b[0m\u001b[0;34m,\u001b[0m \u001b[0;36m60\u001b[0m\u001b[0;34m)\u001b[0m\u001b[0;34m)\u001b[0m  \u001b[0;31m# 輸出: 60 (提供預設值 60)\u001b[0m\u001b[0;34m\u001b[0m\u001b[0;34m\u001b[0m\u001b[0m\n\u001b[1;32m      8\u001b[0m \u001b[0mprint\u001b[0m\u001b[0;34m(\u001b[0m\u001b[0mscores\u001b[0m\u001b[0;34m.\u001b[0m\u001b[0mget\u001b[0m\u001b[0;34m(\u001b[0m\u001b[0;34m\"Mary\"\u001b[0m\u001b[0;34m)\u001b[0m\u001b[0;34m)\u001b[0m\u001b[0;34m\u001b[0m\u001b[0;34m\u001b[0m\u001b[0m\n\u001b[0;32m----> 9\u001b[0;31m \u001b[0mprint\u001b[0m\u001b[0;34m(\u001b[0m\u001b[0mscores\u001b[0m\u001b[0;34m[\u001b[0m\u001b[0;34m\"Mary\"\u001b[0m\u001b[0;34m]\u001b[0m\u001b[0;34m)\u001b[0m\u001b[0;34m\u001b[0m\u001b[0;34m\u001b[0m\u001b[0m\n\u001b[0m",
            "\u001b[0;31mKeyError\u001b[0m: 'Mary'"
          ]
        }
      ]
    },
    {
      "cell_type": "markdown",
      "source": [
        "## 刪除鍵值對"
      ],
      "metadata": {
        "id": "9780VXcnpkoW"
      }
    },
    {
      "cell_type": "code",
      "source": [
        "# pop(key)：移除指定鍵的鍵值對，並回傳其值。\n",
        "# del dict[key]：直接刪除指定的鍵值對。\n",
        "\n",
        "scores = {\"John\": 95, \"Jane\": 92}\n",
        "jane_score = scores.pop(\"Jane\")\n",
        "print(f\"移除了 Jane 的分數: {jane_score}\") # 輸出: 移除了 Jane 的分數: 92\n",
        "print(scores) # 輸出: {'John': 95}\n",
        "\n",
        "del scores[\"John\"]\n",
        "print(scores) # 輸出: {}"
      ],
      "metadata": {
        "colab": {
          "base_uri": "https://localhost:8080/"
        },
        "id": "NFqnKoDxdj0s",
        "outputId": "a2cf87ce-098a-449d-a107-f03b7de22a18"
      },
      "execution_count": null,
      "outputs": [
        {
          "output_type": "stream",
          "name": "stdout",
          "text": [
            "移除了 Jane 的分數: 92\n",
            "{'John': 95}\n",
            "{}\n"
          ]
        }
      ]
    },
    {
      "cell_type": "markdown",
      "source": [
        "## 遍歷 (Iterating)"
      ],
      "metadata": {
        "id": "FihphT2ItfbR"
      }
    },
    {
      "cell_type": "code",
      "source": [
        "student_scores = {\"John\": 95, \"Jane\": 92, \"Kevin\": 85}\n",
        "\n",
        "# 遍歷所有的鍵 (預設行為)\n",
        "print(\"\\n--- 遍歷 Keys ---\")\n",
        "for name in student_scores:\n",
        "    print(name)\n",
        "\n",
        "# 遍歷所有的值\n",
        "print(\"\\n--- 遍歷 Values ---\")\n",
        "for score in student_scores.values():\n",
        "    print(score)\n",
        "\n",
        "# 同時遍歷鍵和值 (最常用)\n",
        "print(\"\\n--- 遍歷 Items (Key-Value pairs) ---\")\n",
        "for name, score in student_scores.items():\n",
        "    print(f\"{name} 的分數是: {score}\")"
      ],
      "metadata": {
        "colab": {
          "base_uri": "https://localhost:8080/"
        },
        "id": "b2DSPdzitho_",
        "outputId": "336b76bf-d294-4b73-93b0-679eaf95ba69"
      },
      "execution_count": null,
      "outputs": [
        {
          "output_type": "stream",
          "name": "stdout",
          "text": [
            "\n",
            "--- 遍歷 Keys ---\n",
            "John\n",
            "Jane\n",
            "Kevin\n",
            "\n",
            "--- 遍歷 Values ---\n",
            "95\n",
            "92\n",
            "85\n",
            "\n",
            "--- 遍歷 Items (Key-Value pairs) ---\n",
            "John 的分數是: 95\n",
            "Jane 的分數是: 92\n",
            "Kevin 的分數是: 85\n"
          ]
        }
      ]
    },
    {
      "cell_type": "markdown",
      "source": [
        "# Set"
      ],
      "metadata": {
        "id": "OFZiO57ngCD7"
      }
    },
    {
      "cell_type": "code",
      "source": [
        "# Set的特性是元素不可重復性，有時在解題時可以把list轉換成set來消掉重複的元素\n",
        "\n",
        "# 從 List 建立 Set，重複的元素會被自動移除\n",
        "my_list = [1, 2, 2, 3, 4, 4, 4]\n",
        "my_set = set(my_list)\n",
        "print(my_set)  # 輸出: {1, 2, 3, 4}\n",
        "\n",
        "# 直接用大括號建立 Set\n",
        "another_set = { \"apple\", \"banana\", \"cherry\" }\n",
        "print(another_set)\n",
        "\n",
        "# 建立一個空的 Set\n",
        "empty_set = set()\n",
        "print(empty_set) # 輸出: set()"
      ],
      "metadata": {
        "colab": {
          "base_uri": "https://localhost:8080/"
        },
        "id": "VUqKoE-9hRnW",
        "outputId": "cdfe890f-7e61-410e-fc09-78e139a99d2a"
      },
      "execution_count": null,
      "outputs": [
        {
          "output_type": "stream",
          "name": "stdout",
          "text": [
            "{1, 2, 3, 4}\n",
            "{'apple', 'banana', 'cherry'}\n",
            "set()\n"
          ]
        }
      ]
    },
    {
      "cell_type": "markdown",
      "source": [
        "## Set的常見操作"
      ],
      "metadata": {
        "id": "Ye9QjkJqul70"
      }
    },
    {
      "cell_type": "code",
      "source": [
        "# add(x)：新增一個元素 x 到 Set 中。如果元素已存在，則不做任何事。\n",
        "# remove(x)：從 Set 中移除元素 x。如果元素不存在，會引發 KeyError 錯誤。\n",
        "# discard(x)：同樣是移除元素 x，但如果元素不存在，它不會報錯，會安靜地忽略。\n",
        "# pop()：隨機移除並回傳 Set 中的一個元素。\n",
        "# clear()：清空 Set。\n",
        "\n",
        "my_set = {1, 2, 3}\n",
        "my_set.add(4)\n",
        "my_set.add(1) # 嘗試加入已存在的 1，但不會有任何改變\n",
        "print(my_set) # 輸出: {1, 2, 3, 4}\n",
        "\n",
        "my_set.remove(3)\n",
        "# my_set.remove(99) # 這行會報錯\n",
        "\n",
        "my_set.discard(2)\n",
        "my_set.discard(99) # 這個不會報錯\n",
        "print(my_set) # 輸出: {1, 4}"
      ],
      "metadata": {
        "colab": {
          "base_uri": "https://localhost:8080/"
        },
        "id": "tLB3KT3vgBdX",
        "outputId": "c91f5545-df9c-4428-b21a-3eca749f6e6e"
      },
      "execution_count": null,
      "outputs": [
        {
          "output_type": "stream",
          "name": "stdout",
          "text": [
            "{1, 2, 3, 4}\n",
            "{1, 4}\n"
          ]
        }
      ]
    },
    {
      "cell_type": "markdown",
      "source": [
        "## 集合運算"
      ],
      "metadata": {
        "id": "_cqltvFU88Pf"
      }
    },
    {
      "cell_type": "code",
      "source": [
        "# 聯集 (Union)：回傳兩個 Set 中所有的元素（不重複）。\n",
        "# 交集 (Intersection)：回傳兩個 Set 中共同擁有的元素。\n",
        "# 差集 (Difference)：回傳存在於第一個 Set，但不存在於第二個 Set 的元素。\n",
        "# 對稱差集 (Symmetric Difference)：回傳只存在於其中一個 Set，而不是兩個 Set 都有的元素。\n",
        "\n",
        "set_a = {1, 2, 3, 4}\n",
        "set_b = {3, 4, 5, 6}\n",
        "\n",
        "# 聯集\n",
        "print(f\"聯集: {set_a | set_b}\") # 或是 set_a.union(set_b)\n",
        "\n",
        "# 交集\n",
        "print(f\"交集: {set_a & set_b}\") # 或是 set_a.intersection(set_b)\n",
        "\n",
        "# 差集 (A 有但 B 沒有的)\n",
        "print(f\"差集 (A-B): {set_a - set_b}\") # 或是 set_a.difference(set_b)\n",
        "\n",
        "# 對稱差集 (A 或 B 有，但非共同擁有)\n",
        "print(f\"對稱差集: {set_a ^ set_b}\") # 或是 set_a.symmetric_difference(set_b)"
      ],
      "metadata": {
        "colab": {
          "base_uri": "https://localhost:8080/"
        },
        "id": "ndjV9p3c83Mk",
        "outputId": "fa4634c1-a6c6-4cfd-ae00-a3b9efc3965f"
      },
      "execution_count": null,
      "outputs": [
        {
          "output_type": "stream",
          "name": "stdout",
          "text": [
            "聯集: {1, 2, 3, 4, 5, 6}\n",
            "交集: {3, 4}\n",
            "差集 (A-B): {1, 2}\n",
            "對稱差集: {1, 2, 5, 6}\n"
          ]
        }
      ]
    },
    {
      "cell_type": "markdown",
      "source": [
        "# 迴圈For...  While..."
      ],
      "metadata": {
        "id": "H4XP2fBXzLJw"
      }
    },
    {
      "cell_type": "code",
      "source": [
        "'''\n",
        "while 條件:\n",
        "  statement\n",
        "'''\n",
        "#while 會不斷運行裡頭的statement直到條件不滿足為止"
      ],
      "metadata": {
        "colab": {
          "base_uri": "https://localhost:8080/",
          "height": 36
        },
        "id": "_SsPhlodDDx2",
        "outputId": "5465c372-8388-4f7c-dea1-467a7d938c82"
      },
      "execution_count": null,
      "outputs": [
        {
          "output_type": "execute_result",
          "data": {
            "text/plain": [
              "'\\nwhile 條件:\\n  statement\\n'"
            ],
            "application/vnd.google.colaboratory.intrinsic+json": {
              "type": "string"
            }
          },
          "metadata": {},
          "execution_count": 123
        }
      ]
    },
    {
      "cell_type": "code",
      "source": [
        "i = 0\n",
        "while i < 10:\n",
        "  print(i)\n",
        "  i += 1"
      ],
      "metadata": {
        "colab": {
          "base_uri": "https://localhost:8080/"
        },
        "id": "o8nlCrYGzKvS",
        "outputId": "167c998d-5784-4a06-e10f-efb34e3de3fc"
      },
      "execution_count": null,
      "outputs": [
        {
          "output_type": "stream",
          "name": "stdout",
          "text": [
            "0\n",
            "1\n",
            "2\n",
            "3\n",
            "4\n",
            "5\n",
            "6\n",
            "7\n",
            "8\n",
            "9\n"
          ]
        }
      ]
    },
    {
      "cell_type": "code",
      "source": [
        "'''\n",
        "for i in range(0, 5):\n",
        "  statement\n",
        "\n",
        "for i in [3, 5, 7]:\n",
        "  statement\n",
        "'''"
      ],
      "metadata": {
        "id": "WRhGgF7uDpqG"
      },
      "execution_count": null,
      "outputs": []
    },
    {
      "cell_type": "code",
      "source": [
        "for i in range(0,5):\n",
        "  print(i)"
      ],
      "metadata": {
        "colab": {
          "base_uri": "https://localhost:8080/"
        },
        "id": "YLURen5RD7Rt",
        "outputId": "ddfc3029-3895-4327-823f-5bc77ad79d37"
      },
      "execution_count": null,
      "outputs": [
        {
          "output_type": "stream",
          "name": "stdout",
          "text": [
            "0\n",
            "1\n",
            "2\n",
            "3\n",
            "4\n"
          ]
        }
      ]
    },
    {
      "cell_type": "code",
      "source": [
        "for i in [1, 2, 3, 4, '44', 'Hello World']:\n",
        "  print(i)"
      ],
      "metadata": {
        "colab": {
          "base_uri": "https://localhost:8080/"
        },
        "id": "ONRbcPFSEBzs",
        "outputId": "87ddbecf-ddd3-420f-b0db-4c67111c7c84"
      },
      "execution_count": null,
      "outputs": [
        {
          "output_type": "stream",
          "name": "stdout",
          "text": [
            "1\n",
            "2\n",
            "3\n",
            "4\n",
            "44\n",
            "Hello World\n"
          ]
        }
      ]
    },
    {
      "cell_type": "code",
      "source": [
        "for i in [[175, 64], [180, 56], [162, 88]]:\n",
        "  tip = bmi_calc(i[0], i[1])\n",
        "  print(tip)"
      ],
      "metadata": {
        "colab": {
          "base_uri": "https://localhost:8080/"
        },
        "id": "EdxVRPcSEKzy",
        "outputId": "9443a258-1c6d-4640-febc-604d6ca9369f"
      },
      "execution_count": null,
      "outputs": [
        {
          "output_type": "stream",
          "name": "stdout",
          "text": [
            "體重正常\n",
            "體重過輕\n",
            "體重過重\n"
          ]
        }
      ]
    },
    {
      "cell_type": "markdown",
      "source": [
        "## Break Continue"
      ],
      "metadata": {
        "id": "YS-WajHDEfDJ"
      }
    },
    {
      "cell_type": "code",
      "source": [
        "i = 0\n",
        "while True:\n",
        "  print(i)\n",
        "  i += 1\n",
        "  if(i == 5):\n",
        "    break"
      ],
      "metadata": {
        "colab": {
          "base_uri": "https://localhost:8080/"
        },
        "id": "MBW5BZDFEiKI",
        "outputId": "75ef538e-98e8-40d2-bae6-a52fbe904839"
      },
      "execution_count": null,
      "outputs": [
        {
          "output_type": "stream",
          "name": "stdout",
          "text": [
            "0\n",
            "1\n",
            "2\n",
            "3\n",
            "4\n"
          ]
        }
      ]
    },
    {
      "cell_type": "code",
      "source": [
        "i = 0\n",
        "while i < 10:\n",
        "  if(i == 5):\n",
        "    i += 1\n",
        "    continue\n",
        "  print(i)\n",
        "  i += 1"
      ],
      "metadata": {
        "colab": {
          "base_uri": "https://localhost:8080/"
        },
        "id": "Vf3pEGFCEu4h",
        "outputId": "b731525d-3771-4d47-d098-035e13130219"
      },
      "execution_count": null,
      "outputs": [
        {
          "output_type": "stream",
          "name": "stdout",
          "text": [
            "0\n",
            "1\n",
            "2\n",
            "3\n",
            "4\n",
            "6\n",
            "7\n",
            "8\n",
            "9\n"
          ]
        }
      ]
    },
    {
      "cell_type": "markdown",
      "source": [
        "# 遞迴"
      ],
      "metadata": {
        "id": "laq3qV_6C_wh"
      }
    },
    {
      "cell_type": "markdown",
      "source": [
        "遞迴的特性：\n",
        "\n",
        "1.重複執行它自己，  \n",
        "2.有停止遞迴的條件，  \n",
        "3.適用於大問題拆成小問題，  \n",
        "4.從小的開始解決最後組成大的"
      ],
      "metadata": {
        "id": "gdIPd-Z56vVc"
      }
    },
    {
      "cell_type": "code",
      "source": [
        "def summation(x):\n",
        "  if(x == 0):\n",
        "    return x\n",
        "  else:\n",
        "    return x + summation(x-1)\n",
        "\n",
        "summation(5)"
      ],
      "metadata": {
        "colab": {
          "base_uri": "https://localhost:8080/"
        },
        "id": "WF_jMqm6FBnw",
        "outputId": "29248066-8806-47f5-91c0-8470bb268072"
      },
      "execution_count": null,
      "outputs": [
        {
          "output_type": "execute_result",
          "data": {
            "text/plain": [
              "15"
            ]
          },
          "metadata": {},
          "execution_count": 130
        }
      ]
    },
    {
      "cell_type": "code",
      "source": [
        "def factorial(x):\n",
        "  if(x==0):\n",
        "    return 1\n",
        "  else:\n",
        "    return x * factorial(x-1)\n",
        "\n",
        "factorial(5)"
      ],
      "metadata": {
        "colab": {
          "base_uri": "https://localhost:8080/"
        },
        "id": "x5vJYJSQF9ji",
        "outputId": "36a4c935-b465-4683-8919-ce81bc0f83a3"
      },
      "execution_count": null,
      "outputs": [
        {
          "output_type": "execute_result",
          "data": {
            "text/plain": [
              "120"
            ]
          },
          "metadata": {},
          "execution_count": 131
        }
      ]
    },
    {
      "cell_type": "markdown",
      "source": [
        "# Class"
      ],
      "metadata": {
        "id": "4tRF_Vi4zTll"
      }
    },
    {
      "cell_type": "markdown",
      "source": [
        "## LinkedList"
      ],
      "metadata": {
        "id": "L3KvQEf12xVa"
      }
    },
    {
      "cell_type": "code",
      "source": [
        "class Node:\n",
        "\n",
        "  #建構式 Constructor\n",
        "  #當建立這個物件時，會自動執行此程式碼\n",
        "  def __init__(self, x):\n",
        "    #Attributes\n",
        "    self.x = x #初始化該物件的x值 （此處的x值表示node裡頭存的值）\n",
        "    self.next = None #初始化該物件所存取的下一個node的位置\n",
        "\n",
        "  #Methods\n",
        "  def next_one(self):\n",
        "    return self.next\n",
        "\n",
        "  def add(self, next):\n",
        "    self.next = next\n",
        "\n",
        "  def hasNext(self):\n",
        "    if(self.next == None):\n",
        "      return False\n",
        "    else:\n",
        "      return True\n",
        "\n",
        "#self 表示該物件的本體\n",
        "#物件裡頭的def都要加上self參數 編譯器會自動傳入 在呼叫該method時不必傳入"
      ],
      "metadata": {
        "id": "KNchbzzfzUnk"
      },
      "execution_count": null,
      "outputs": []
    },
    {
      "cell_type": "code",
      "source": [
        "n1 = Node(3)\n",
        "#若要修改Node的x值 可以寫n1.x = 1\n",
        "n1.add(Node(5))\n",
        "n1.next_one().add(Node(7))\n",
        "n1.next_one().next_one().add(Node(9))"
      ],
      "metadata": {
        "id": "7AGAotZ5zwZx"
      },
      "execution_count": null,
      "outputs": []
    },
    {
      "cell_type": "code",
      "source": [
        "n1.hasNext()"
      ],
      "metadata": {
        "colab": {
          "base_uri": "https://localhost:8080/"
        },
        "id": "oW7_fQ6E0m4T",
        "outputId": "6a78cc10-fa2e-4cef-90bd-781f350c38db"
      },
      "execution_count": null,
      "outputs": [
        {
          "output_type": "execute_result",
          "data": {
            "text/plain": [
              "True"
            ]
          },
          "metadata": {},
          "execution_count": 134
        }
      ]
    },
    {
      "cell_type": "code",
      "source": [
        "node = n1\n",
        "while True:\n",
        "  print(node.x)\n",
        "  node = node.next_one()\n",
        "  if(node == None):\n",
        "    break"
      ],
      "metadata": {
        "colab": {
          "base_uri": "https://localhost:8080/"
        },
        "id": "5wgvObhS0wDo",
        "outputId": "6cd21bdf-294a-4156-a744-86ebe3e48260"
      },
      "execution_count": null,
      "outputs": [
        {
          "output_type": "stream",
          "name": "stdout",
          "text": [
            "3\n",
            "5\n",
            "7\n",
            "9\n"
          ]
        }
      ]
    },
    {
      "cell_type": "markdown",
      "source": [
        "### 小測驗：\n",
        "\n",
        "Leetcode: 206 請使用遞迴完成reverse linkedlist"
      ],
      "metadata": {
        "id": "Xnc1gbFy5G0j"
      }
    },
    {
      "cell_type": "markdown",
      "source": [
        "![IMG_0BD1476B0579-1.jpeg](data:image/jpeg;base64,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)"
      ],
      "metadata": {
        "id": "ZsAWxnqCKkN-"
      }
    },
    {
      "cell_type": "markdown",
      "source": [
        "請修改以下程式碼"
      ],
      "metadata": {
        "id": "CpkKljVz3gzj"
      }
    },
    {
      "cell_type": "markdown",
      "source": [
        "遞迴寫法"
      ],
      "metadata": {
        "id": "eMEBc5DPPlfH"
      }
    },
    {
      "cell_type": "code",
      "source": [
        "def reverseList(node):\n",
        "  if(node.next == None):\n",
        "    return node\n",
        "  else:\n",
        "\n",
        "    head = reverseList(node.next)\n",
        "    node.next.next = node\n",
        "    node.next = None\n",
        "\n",
        "  return head"
      ],
      "metadata": {
        "id": "x7NVbTulPdqU"
      },
      "execution_count": null,
      "outputs": []
    },
    {
      "cell_type": "markdown",
      "source": [
        "檢查用"
      ],
      "metadata": {
        "id": "7B19CyFqQZ95"
      }
    },
    {
      "cell_type": "code",
      "source": [
        "n1 = Node(3)\n",
        "#若要修改Node的x值 可以寫n1.x = 1\n",
        "n1.add(Node(5))\n",
        "n1.next_one().add(Node(7))\n",
        "n1.next_one().next_one().add(Node(9))\n",
        "\n",
        "head = reverseList(n1)\n",
        "node = head\n",
        "while True:\n",
        "  print(node.x)\n",
        "  node = node.next_one()\n",
        "  if(node == None):\n",
        "    break\n",
        "print('倒過來，再倒回去')\n",
        "head = reverseList(head)\n",
        "node = head\n",
        "while True:\n",
        "  print(node.x)\n",
        "  node = node.next_one()\n",
        "  if(node == None):\n",
        "    break"
      ],
      "metadata": {
        "id": "kS2dW6HV4ee2",
        "colab": {
          "base_uri": "https://localhost:8080/"
        },
        "outputId": "73e1c88f-bcf3-483f-a68f-714b8f117088"
      },
      "execution_count": null,
      "outputs": [
        {
          "output_type": "stream",
          "name": "stdout",
          "text": [
            "9\n",
            "7\n",
            "5\n",
            "3\n",
            "倒過來，再倒回去\n",
            "3\n",
            "5\n",
            "7\n",
            "9\n"
          ]
        }
      ]
    },
    {
      "cell_type": "markdown",
      "source": [
        "迴圈寫法"
      ],
      "metadata": {
        "id": "FG9sbNOyPgQO"
      }
    },
    {
      "cell_type": "code",
      "source": [
        "def reverseList2(node):\n",
        "  prev = None\n",
        "  cur = node\n",
        "  while cur != None:\n",
        "    next = cur.next\n",
        "    cur.next = prev\n",
        "    prev = cur\n",
        "    cur = next\n",
        "  return prev"
      ],
      "metadata": {
        "id": "v3pNFUV6PfDo"
      },
      "execution_count": null,
      "outputs": []
    },
    {
      "cell_type": "markdown",
      "source": [
        "檢查用"
      ],
      "metadata": {
        "id": "plrK8BYbQd9Y"
      }
    },
    {
      "cell_type": "code",
      "source": [
        "n1 = Node(3)\n",
        "#若要修改Node的x值 可以寫n1.x = 1\n",
        "n1.add(Node(5))\n",
        "n1.next_one().add(Node(7))\n",
        "n1.next_one().next_one().add(Node(9))\n",
        "\n",
        "head = reverseList2(n1)\n",
        "node = head\n",
        "while True:\n",
        "  print(node.x)\n",
        "  node = node.next_one()\n",
        "  if(node == None):\n",
        "    break\n",
        "\n",
        "print('倒過來，再倒回去')\n",
        "head = reverseList2(head)\n",
        "node = head\n",
        "while True:\n",
        "  print(node.x)\n",
        "  node = node.next_one()\n",
        "  if(node == None):\n",
        "    break"
      ],
      "metadata": {
        "colab": {
          "base_uri": "https://localhost:8080/"
        },
        "id": "IkfzB8RHLEBL",
        "outputId": "0d0b36b3-4a45-4a8e-bcbe-5c5217bd0c0c"
      },
      "execution_count": null,
      "outputs": [
        {
          "output_type": "stream",
          "name": "stdout",
          "text": [
            "9\n",
            "7\n",
            "5\n",
            "3\n",
            "倒過來，再倒回去\n",
            "3\n",
            "5\n",
            "7\n",
            "9\n"
          ]
        }
      ]
    },
    {
      "cell_type": "markdown",
      "source": [
        "### 以下僅供參考"
      ],
      "metadata": {
        "id": "ge5JGOXt7hHQ"
      }
    },
    {
      "cell_type": "markdown",
      "source": [
        "## Stack"
      ],
      "metadata": {
        "id": "1kIYYdBv24PI"
      }
    },
    {
      "cell_type": "code",
      "source": [
        "class Stack:\n",
        "\n",
        "  def __init__(self, x):\n",
        "    self.content = [x]\n",
        "    self.top = x\n",
        "    self.size = len(self.content)\n",
        "\n",
        "  def get_top(self):\n",
        "    return self.top\n",
        "\n",
        "  def get_size(self):\n",
        "    return self.size\n",
        "\n",
        "  def pop(self):\n",
        "    if(len(self.content) == 1):\n",
        "      top = self.top\n",
        "      self = Stack(None)\n",
        "      return top\n",
        "    top = self.top\n",
        "    self.content = self.content[:-1]\n",
        "    self.size = len(self.content)\n",
        "    self.top = self.content[-1]\n",
        "    return top\n",
        "\n",
        "  def push(self, x):\n",
        "    self.content.append(x)\n",
        "    self.top = x\n",
        "    self.size += 1"
      ],
      "metadata": {
        "id": "y0Tjo7iG1w6N"
      },
      "execution_count": null,
      "outputs": []
    },
    {
      "cell_type": "code",
      "source": [
        "stack = Stack(5)\n",
        "stack.push(1)\n",
        "stack.push(7)\n",
        "stack.push(9)"
      ],
      "metadata": {
        "id": "VHR1sToK35xf"
      },
      "execution_count": null,
      "outputs": []
    },
    {
      "cell_type": "code",
      "source": [
        "for i in range(0, stack.get_size()):\n",
        "  print(stack.content)\n",
        "  print(stack.pop())"
      ],
      "metadata": {
        "colab": {
          "base_uri": "https://localhost:8080/"
        },
        "id": "DnxgAZl_4Cci",
        "outputId": "e75b02f6-e22e-4219-93b8-9db615dcd866"
      },
      "execution_count": null,
      "outputs": [
        {
          "output_type": "stream",
          "name": "stdout",
          "text": [
            "[5, 1, 7, 9]\n",
            "9\n",
            "[5, 1, 7]\n",
            "7\n",
            "[5, 1]\n",
            "1\n",
            "[5]\n",
            "5\n"
          ]
        }
      ]
    },
    {
      "cell_type": "markdown",
      "source": [
        "## Binary Tree"
      ],
      "metadata": {
        "id": "pT1Jez547ez8"
      }
    },
    {
      "cell_type": "code",
      "source": [
        "class TreeNode:\n",
        "\n",
        "  def __init__(self, x):\n",
        "    self.x = x\n",
        "    self.parent = None\n",
        "    self.left = None\n",
        "    self.right = None\n",
        "\n",
        "  def set(self, x):\n",
        "    self.x = x\n",
        "\n",
        "  def set_left(self, node):\n",
        "    self.left = node\n",
        "\n",
        "  def set_right(self, node):\n",
        "    self.right = node\n",
        "\n",
        "  def set_parent(self, node):\n",
        "    self.parent = node"
      ],
      "metadata": {
        "id": "5yvVBd204V_i"
      },
      "execution_count": null,
      "outputs": []
    },
    {
      "cell_type": "code",
      "source": [
        "class BinaryTree:\n",
        "\n",
        "  def __init__(self, x):\n",
        "    self.root = TreeNode(x)\n",
        "    print(self.root.x)\n",
        "\n",
        "  def add(self, x):\n",
        "    if(self.root != None):\n",
        "      self._add(x, self.root)\n",
        "\n",
        "  def _add(self, x, node):\n",
        "    if(x > node.x):\n",
        "      if(node.right == None):\n",
        "        node.right = TreeNode(x)\n",
        "        node.right.set_parent = node\n",
        "      else:\n",
        "        self._add(x, node.right)\n",
        "    elif(x < node.x):\n",
        "      if(node.left == None):\n",
        "        node.left = TreeNode(x)\n",
        "        node.left.set_parent = node\n",
        "      else:\n",
        "        self._add(x, node.left)\n",
        "\n",
        "  def print_tree(self):\n",
        "    if self.root!=None:\n",
        "        self._print_tree(self.root)\n",
        "\n",
        "  def _print_tree(self,node):\n",
        "    if(node == None):\n",
        "      return\n",
        "    if(node != None):\n",
        "        self._print_tree(node.left)\n",
        "        print(str(node.x))\n",
        "        self._print_tree(node.right)\n",
        "\n",
        "\n"
      ],
      "metadata": {
        "id": "2yaC8CYT8ZGZ"
      },
      "execution_count": null,
      "outputs": []
    },
    {
      "cell_type": "code",
      "source": [
        "tree = BinaryTree(2)"
      ],
      "metadata": {
        "colab": {
          "base_uri": "https://localhost:8080/"
        },
        "id": "EfDec29P-jFJ",
        "outputId": "1563c2ce-0c6a-488b-8958-e676c657447d"
      },
      "execution_count": null,
      "outputs": [
        {
          "output_type": "stream",
          "name": "stdout",
          "text": [
            "2\n"
          ]
        }
      ]
    },
    {
      "cell_type": "code",
      "source": [
        "tree.add(3)\n",
        "tree.add(5)\n",
        "tree.add(1)\n",
        "tree.add(7)"
      ],
      "metadata": {
        "id": "ryzJzJWZ-pnQ"
      },
      "execution_count": null,
      "outputs": []
    },
    {
      "cell_type": "code",
      "source": [
        "tree.print_tree()"
      ],
      "metadata": {
        "colab": {
          "base_uri": "https://localhost:8080/"
        },
        "id": "ObSpAQzM-27U",
        "outputId": "77eb0e45-00bc-417c-9388-bb4b9cbefe9a"
      },
      "execution_count": null,
      "outputs": [
        {
          "output_type": "stream",
          "name": "stdout",
          "text": [
            "1\n",
            "2\n",
            "3\n",
            "5\n",
            "7\n"
          ]
        }
      ]
    },
    {
      "cell_type": "code",
      "source": [
        "# Please Make a Queue Class by yourself\n",
        "# A Queue has a First in First out (FIFO) attribute\n",
        "# your Queue must have 3 functions which are enqueue and dequeue and print how queue operates"
      ],
      "metadata": {
        "id": "A646yozDAxAl"
      },
      "execution_count": null,
      "outputs": []
    },
    {
      "cell_type": "code",
      "source": [],
      "metadata": {
        "id": "2h050mWQBLI9"
      },
      "execution_count": null,
      "outputs": []
    }
  ]
}